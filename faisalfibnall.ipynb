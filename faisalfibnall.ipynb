{
 "cells": [
  {
   "cell_type": "code",
   "execution_count": 3,
   "id": "f44dd096",
   "metadata": {},
   "outputs": [],
   "source": [
    "import numpy as np \n",
    "import pandas as pd \n"
   ]
  },
  {
   "cell_type": "code",
   "execution_count": null,
   "id": "952a8f5d",
   "metadata": {},
   "outputs": [],
   "source": [
    "import os\n",
    "for dirname, _, filenames in os.walk('/kaggle/input'):\n",
    "    for filename in filenames:\n",
    "        print(os.path.join(dirname, filename))"
   ]
  },
  {
   "cell_type": "code",
   "execution_count": 5,
   "id": "69eb7e92",
   "metadata": {},
   "outputs": [
    {
     "name": "stdout",
     "output_type": "stream",
     "text": [
      "                                                title  \\\n",
      "0   As U.S. budget fight looms, Republicans flip t...   \n",
      "1   U.S. military to accept transgender recruits o...   \n",
      "2   Senior U.S. Republican senator: 'Let Mr. Muell...   \n",
      "3   FBI Russia probe helped by Australian diplomat...   \n",
      "4   Trump wants Postal Service to charge 'much mor...   \n",
      "5   White House, Congress prepare for talks on spe...   \n",
      "6   Trump says Russia probe will be fair, but time...   \n",
      "7   Factbox: Trump on Twitter (Dec 29) - Approval ...   \n",
      "8          Trump on Twitter (Dec 28) - Global Warming   \n",
      "9   Alabama official to certify Senator-elect Jone...   \n",
      "10  Jones certified U.S. Senate winner despite Moo...   \n",
      "11  New York governor questions the constitutional...   \n",
      "12  Factbox: Trump on Twitter (Dec 28) - Vanity Fa...   \n",
      "13     Trump on Twitter (Dec 27) - Trump, Iraq, Syria   \n",
      "\n",
      "                                                 text       subject  \\\n",
      "0   WASHINGTON (Reuters) - The head of a conservat...  politicsNews   \n",
      "1   WASHINGTON (Reuters) - Transgender people will...  politicsNews   \n",
      "2   WASHINGTON (Reuters) - The special counsel inv...  politicsNews   \n",
      "3   WASHINGTON (Reuters) - Trump campaign adviser ...  politicsNews   \n",
      "4   SEATTLE/WASHINGTON (Reuters) - President Donal...  politicsNews   \n",
      "5   WEST PALM BEACH, Fla./WASHINGTON (Reuters) - T...  politicsNews   \n",
      "6   WEST PALM BEACH, Fla (Reuters) - President Don...  politicsNews   \n",
      "7   The following statements were posted to the ve...  politicsNews   \n",
      "8   The following statements were posted to the ve...  politicsNews   \n",
      "9   WASHINGTON (Reuters) - Alabama Secretary of St...  politicsNews   \n",
      "10  (Reuters) - Alabama officials on Thursday cert...  politicsNews   \n",
      "11  NEW YORK/WASHINGTON (Reuters) - The new U.S. t...  politicsNews   \n",
      "12  The following statements were posted to the ve...  politicsNews   \n",
      "13  The following statements were posted to the ve...  politicsNews   \n",
      "\n",
      "                  date  \n",
      "0   December 31, 2017   \n",
      "1   December 29, 2017   \n",
      "2   December 31, 2017   \n",
      "3   December 30, 2017   \n",
      "4   December 29, 2017   \n",
      "5   December 29, 2017   \n",
      "6   December 29, 2017   \n",
      "7   December 29, 2017   \n",
      "8   December 29, 2017   \n",
      "9   December 28, 2017   \n",
      "10  December 28, 2017   \n",
      "11  December 28, 2017   \n",
      "12  December 28, 2017   \n",
      "13  December 28, 2017   \n"
     ]
    },
    {
     "data": {
      "text/html": [
       "<div>\n",
       "<style scoped>\n",
       "    .dataframe tbody tr th:only-of-type {\n",
       "        vertical-align: middle;\n",
       "    }\n",
       "\n",
       "    .dataframe tbody tr th {\n",
       "        vertical-align: top;\n",
       "    }\n",
       "\n",
       "    .dataframe thead th {\n",
       "        text-align: right;\n",
       "    }\n",
       "</style>\n",
       "<table border=\"1\" class=\"dataframe\">\n",
       "  <thead>\n",
       "    <tr style=\"text-align: right;\">\n",
       "      <th></th>\n",
       "      <th>title</th>\n",
       "      <th>text</th>\n",
       "      <th>subject</th>\n",
       "      <th>date</th>\n",
       "    </tr>\n",
       "  </thead>\n",
       "  <tbody>\n",
       "    <tr>\n",
       "      <th>0</th>\n",
       "      <td>Donald Trump Sends Out Embarrassing New Year’...</td>\n",
       "      <td>Donald Trump just couldn t wish all Americans ...</td>\n",
       "      <td>News</td>\n",
       "      <td>December 31, 2017</td>\n",
       "    </tr>\n",
       "    <tr>\n",
       "      <th>1</th>\n",
       "      <td>Drunk Bragging Trump Staffer Started Russian ...</td>\n",
       "      <td>House Intelligence Committee Chairman Devin Nu...</td>\n",
       "      <td>News</td>\n",
       "      <td>December 31, 2017</td>\n",
       "    </tr>\n",
       "    <tr>\n",
       "      <th>2</th>\n",
       "      <td>Sheriff David Clarke Becomes An Internet Joke...</td>\n",
       "      <td>On Friday, it was revealed that former Milwauk...</td>\n",
       "      <td>News</td>\n",
       "      <td>December 30, 2017</td>\n",
       "    </tr>\n",
       "    <tr>\n",
       "      <th>3</th>\n",
       "      <td>Trump Is So Obsessed He Even Has Obama’s Name...</td>\n",
       "      <td>On Christmas day, Donald Trump announced that ...</td>\n",
       "      <td>News</td>\n",
       "      <td>December 29, 2017</td>\n",
       "    </tr>\n",
       "    <tr>\n",
       "      <th>4</th>\n",
       "      <td>Pope Francis Just Called Out Donald Trump Dur...</td>\n",
       "      <td>Pope Francis used his annual Christmas Day mes...</td>\n",
       "      <td>News</td>\n",
       "      <td>December 25, 2017</td>\n",
       "    </tr>\n",
       "    <tr>\n",
       "      <th>5</th>\n",
       "      <td>Racist Alabama Cops Brutalize Black Boy While...</td>\n",
       "      <td>The number of cases of cops brutalizing and ki...</td>\n",
       "      <td>News</td>\n",
       "      <td>December 25, 2017</td>\n",
       "    </tr>\n",
       "    <tr>\n",
       "      <th>6</th>\n",
       "      <td>Fresh Off The Golf Course, Trump Lashes Out A...</td>\n",
       "      <td>Donald Trump spent a good portion of his day a...</td>\n",
       "      <td>News</td>\n",
       "      <td>December 23, 2017</td>\n",
       "    </tr>\n",
       "    <tr>\n",
       "      <th>7</th>\n",
       "      <td>Trump Said Some INSANELY Racist Stuff Inside ...</td>\n",
       "      <td>In the wake of yet another court decision that...</td>\n",
       "      <td>News</td>\n",
       "      <td>December 23, 2017</td>\n",
       "    </tr>\n",
       "    <tr>\n",
       "      <th>8</th>\n",
       "      <td>Former CIA Director Slams Trump Over UN Bully...</td>\n",
       "      <td>Many people have raised the alarm regarding th...</td>\n",
       "      <td>News</td>\n",
       "      <td>December 22, 2017</td>\n",
       "    </tr>\n",
       "    <tr>\n",
       "      <th>9</th>\n",
       "      <td>WATCH: Brand-New Pro-Trump Ad Features So Muc...</td>\n",
       "      <td>Just when you might have thought we d get a br...</td>\n",
       "      <td>News</td>\n",
       "      <td>December 21, 2017</td>\n",
       "    </tr>\n",
       "  </tbody>\n",
       "</table>\n",
       "</div>"
      ],
      "text/plain": [
       "                                               title  \\\n",
       "0   Donald Trump Sends Out Embarrassing New Year’...   \n",
       "1   Drunk Bragging Trump Staffer Started Russian ...   \n",
       "2   Sheriff David Clarke Becomes An Internet Joke...   \n",
       "3   Trump Is So Obsessed He Even Has Obama’s Name...   \n",
       "4   Pope Francis Just Called Out Donald Trump Dur...   \n",
       "5   Racist Alabama Cops Brutalize Black Boy While...   \n",
       "6   Fresh Off The Golf Course, Trump Lashes Out A...   \n",
       "7   Trump Said Some INSANELY Racist Stuff Inside ...   \n",
       "8   Former CIA Director Slams Trump Over UN Bully...   \n",
       "9   WATCH: Brand-New Pro-Trump Ad Features So Muc...   \n",
       "\n",
       "                                                text subject  \\\n",
       "0  Donald Trump just couldn t wish all Americans ...    News   \n",
       "1  House Intelligence Committee Chairman Devin Nu...    News   \n",
       "2  On Friday, it was revealed that former Milwauk...    News   \n",
       "3  On Christmas day, Donald Trump announced that ...    News   \n",
       "4  Pope Francis used his annual Christmas Day mes...    News   \n",
       "5  The number of cases of cops brutalizing and ki...    News   \n",
       "6  Donald Trump spent a good portion of his day a...    News   \n",
       "7  In the wake of yet another court decision that...    News   \n",
       "8  Many people have raised the alarm regarding th...    News   \n",
       "9  Just when you might have thought we d get a br...    News   \n",
       "\n",
       "                date  \n",
       "0  December 31, 2017  \n",
       "1  December 31, 2017  \n",
       "2  December 30, 2017  \n",
       "3  December 29, 2017  \n",
       "4  December 25, 2017  \n",
       "5  December 25, 2017  \n",
       "6  December 23, 2017  \n",
       "7  December 23, 2017  \n",
       "8  December 22, 2017  \n",
       "9  December 21, 2017  "
      ]
     },
     "execution_count": 5,
     "metadata": {},
     "output_type": "execute_result"
    }
   ],
   "source": [
    "true_data=pd.read_csv('/Users/Basit/Downloads/archive/News _dataset/True.csv')\n",
    "fake_data=pd.read_csv('/Users/Basit/Downloads/archive/News _dataset/Fake.csv')\n",
    "\n",
    "print(true_data[0:14])\n",
    "fake_data[0:10]"
   ]
  },
  {
   "cell_type": "code",
   "execution_count": 6,
   "id": "86eeb062",
   "metadata": {},
   "outputs": [
    {
     "name": "stdout",
     "output_type": "stream",
     "text": [
      "WASHINGTON (Reuters) - The head of a conservative Republican faction in the U.S. Congress, who voted this month for a huge expansion of the national debt to pay for tax cuts, called himself a “fiscal conservative” on Sunday and urged budget restraint in 2018. In keeping with a sharp pivot under way among Republicans, U.S. Representative Mark Meadows, speaking on CBS’ “Face the Nation,” drew a hard line on federal spending, which lawmakers are bracing to do battle over in January. When they return from the holidays on Wednesday, lawmakers will begin trying to pass a federal budget in a fight likely to be linked to other issues, such as immigration policy, even as the November congressional election campaigns approach in which Republicans will seek to keep control of Congress. President Donald Trump and his Republicans want a big budget increase in military spending, while Democrats also want proportional increases for non-defense “discretionary” spending on programs that support education, scientific research, infrastructure, public health and environmental protection. “The (Trump) administration has already been willing to say: ‘We’re going to increase non-defense discretionary spending ... by about 7 percent,’” Meadows, chairman of the small but influential House Freedom Caucus, said on the program. “Now, Democrats are saying that’s not enough, we need to give the government a pay raise of 10 to 11 percent. For a fiscal conservative, I don’t see where the rationale is. ... Eventually you run out of other people’s money,” he said. Meadows was among Republicans who voted in late December for their party’s debt-financed tax overhaul, which is expected to balloon the federal budget deficit and add about $1.5 trillion over 10 years to the $20 trillion national debt. “It’s interesting to hear Mark talk about fiscal responsibility,” Democratic U.S. Representative Joseph Crowley said on CBS. Crowley said the Republican tax bill would require the  United States to borrow $1.5 trillion, to be paid off by future generations, to finance tax cuts for corporations and the rich. “This is one of the least ... fiscally responsible bills we’ve ever seen passed in the history of the House of Representatives. I think we’re going to be paying for this for many, many years to come,” Crowley said. Republicans insist the tax package, the biggest U.S. tax overhaul in more than 30 years,  will boost the economy and job growth. House Speaker Paul Ryan, who also supported the tax bill, recently went further than Meadows, making clear in a radio interview that welfare or “entitlement reform,” as the party often calls it, would be a top Republican priority in 2018. In Republican parlance, “entitlement” programs mean food stamps, housing assistance, Medicare and Medicaid health insurance for the elderly, poor and disabled, as well as other programs created by Washington to assist the needy. Democrats seized on Ryan’s early December remarks, saying they showed Republicans would try to pay for their tax overhaul by seeking spending cuts for social programs. But the goals of House Republicans may have to take a back seat to the Senate, where the votes of some Democrats will be needed to approve a budget and prevent a government shutdown. Democrats will use their leverage in the Senate, which Republicans narrowly control, to defend both discretionary non-defense programs and social spending, while tackling the issue of the “Dreamers,” people brought illegally to the country as children. Trump in September put a March 2018 expiration date on the Deferred Action for Childhood Arrivals, or DACA, program, which protects the young immigrants from deportation and provides them with work permits. The president has said in recent Twitter messages he wants funding for his proposed Mexican border wall and other immigration law changes in exchange for agreeing to help the Dreamers. Representative Debbie Dingell told CBS she did not favor linking that issue to other policy objectives, such as wall funding. “We need to do DACA clean,” she said.  On Wednesday, Trump aides will meet with congressional leaders to discuss those issues. That will be followed by a weekend of strategy sessions for Trump and Republican leaders on Jan. 6 and 7, the White House said. Trump was also scheduled to meet on Sunday with Florida Republican Governor Rick Scott, who wants more emergency aid. The House has passed an $81 billion aid package after hurricanes in Florida, Texas and Puerto Rico, and wildfires in California. The package far exceeded the $44 billion requested by the Trump administration. The Senate has not yet voted on the aid. \n"
     ]
    },
    {
     "data": {
      "text/plain": [
       "Index(['title', 'text', 'subject', 'date'], dtype='object')"
      ]
     },
     "execution_count": 6,
     "metadata": {},
     "output_type": "execute_result"
    }
   ],
   "source": [
    "print(true_data['text'][0])\n",
    "true_data.columns"
   ]
  },
  {
   "cell_type": "code",
   "execution_count": 7,
   "id": "61ed93e2",
   "metadata": {},
   "outputs": [
    {
     "data": {
      "text/plain": [
       "21417"
      ]
     },
     "execution_count": 7,
     "metadata": {},
     "output_type": "execute_result"
    }
   ],
   "source": [
    "len(true_data)\n"
   ]
  },
  {
   "cell_type": "code",
   "execution_count": 8,
   "id": "4c13a5f6",
   "metadata": {},
   "outputs": [
    {
     "name": "stdout",
     "output_type": "stream",
     "text": [
      "                                               title  \\\n",
      "0  As U.S. budget fight looms, Republicans flip t...   \n",
      "1  U.S. military to accept transgender recruits o...   \n",
      "2  Senior U.S. Republican senator: 'Let Mr. Muell...   \n",
      "3  FBI Russia probe helped by Australian diplomat...   \n",
      "4  Trump wants Postal Service to charge 'much mor...   \n",
      "\n",
      "                                                text       subject  \\\n",
      "0  WASHINGTON (Reuters) - The head of a conservat...  politicsNews   \n",
      "1  WASHINGTON (Reuters) - Transgender people will...  politicsNews   \n",
      "2  WASHINGTON (Reuters) - The special counsel inv...  politicsNews   \n",
      "3  WASHINGTON (Reuters) - Trump campaign adviser ...  politicsNews   \n",
      "4  SEATTLE/WASHINGTON (Reuters) - President Donal...  politicsNews   \n",
      "\n",
      "                 date  label  \n",
      "0  December 31, 2017       0  \n",
      "1  December 29, 2017       0  \n",
      "2  December 31, 2017       0  \n",
      "3  December 30, 2017       0  \n",
      "4  December 29, 2017       0  \n"
     ]
    },
    {
     "data": {
      "text/html": [
       "<div>\n",
       "<style scoped>\n",
       "    .dataframe tbody tr th:only-of-type {\n",
       "        vertical-align: middle;\n",
       "    }\n",
       "\n",
       "    .dataframe tbody tr th {\n",
       "        vertical-align: top;\n",
       "    }\n",
       "\n",
       "    .dataframe thead th {\n",
       "        text-align: right;\n",
       "    }\n",
       "</style>\n",
       "<table border=\"1\" class=\"dataframe\">\n",
       "  <thead>\n",
       "    <tr style=\"text-align: right;\">\n",
       "      <th></th>\n",
       "      <th>title</th>\n",
       "      <th>text</th>\n",
       "      <th>subject</th>\n",
       "      <th>date</th>\n",
       "      <th>label</th>\n",
       "    </tr>\n",
       "  </thead>\n",
       "  <tbody>\n",
       "    <tr>\n",
       "      <th>0</th>\n",
       "      <td>Donald Trump Sends Out Embarrassing New Year’...</td>\n",
       "      <td>Donald Trump just couldn t wish all Americans ...</td>\n",
       "      <td>News</td>\n",
       "      <td>December 31, 2017</td>\n",
       "      <td>1</td>\n",
       "    </tr>\n",
       "    <tr>\n",
       "      <th>1</th>\n",
       "      <td>Drunk Bragging Trump Staffer Started Russian ...</td>\n",
       "      <td>House Intelligence Committee Chairman Devin Nu...</td>\n",
       "      <td>News</td>\n",
       "      <td>December 31, 2017</td>\n",
       "      <td>1</td>\n",
       "    </tr>\n",
       "    <tr>\n",
       "      <th>2</th>\n",
       "      <td>Sheriff David Clarke Becomes An Internet Joke...</td>\n",
       "      <td>On Friday, it was revealed that former Milwauk...</td>\n",
       "      <td>News</td>\n",
       "      <td>December 30, 2017</td>\n",
       "      <td>1</td>\n",
       "    </tr>\n",
       "    <tr>\n",
       "      <th>3</th>\n",
       "      <td>Trump Is So Obsessed He Even Has Obama’s Name...</td>\n",
       "      <td>On Christmas day, Donald Trump announced that ...</td>\n",
       "      <td>News</td>\n",
       "      <td>December 29, 2017</td>\n",
       "      <td>1</td>\n",
       "    </tr>\n",
       "    <tr>\n",
       "      <th>4</th>\n",
       "      <td>Pope Francis Just Called Out Donald Trump Dur...</td>\n",
       "      <td>Pope Francis used his annual Christmas Day mes...</td>\n",
       "      <td>News</td>\n",
       "      <td>December 25, 2017</td>\n",
       "      <td>1</td>\n",
       "    </tr>\n",
       "  </tbody>\n",
       "</table>\n",
       "</div>"
      ],
      "text/plain": [
       "                                               title  \\\n",
       "0   Donald Trump Sends Out Embarrassing New Year’...   \n",
       "1   Drunk Bragging Trump Staffer Started Russian ...   \n",
       "2   Sheriff David Clarke Becomes An Internet Joke...   \n",
       "3   Trump Is So Obsessed He Even Has Obama’s Name...   \n",
       "4   Pope Francis Just Called Out Donald Trump Dur...   \n",
       "\n",
       "                                                text subject  \\\n",
       "0  Donald Trump just couldn t wish all Americans ...    News   \n",
       "1  House Intelligence Committee Chairman Devin Nu...    News   \n",
       "2  On Friday, it was revealed that former Milwauk...    News   \n",
       "3  On Christmas day, Donald Trump announced that ...    News   \n",
       "4  Pope Francis used his annual Christmas Day mes...    News   \n",
       "\n",
       "                date  label  \n",
       "0  December 31, 2017      1  \n",
       "1  December 31, 2017      1  \n",
       "2  December 30, 2017      1  \n",
       "3  December 29, 2017      1  \n",
       "4  December 25, 2017      1  "
      ]
     },
     "execution_count": 8,
     "metadata": {},
     "output_type": "execute_result"
    }
   ],
   "source": [
    "fake_data['label'] = 1\n",
    "true_data['label']=0\n",
    "print(true_data.head())\n",
    "fake_data.head()"
   ]
  },
  {
   "cell_type": "code",
   "execution_count": 9,
   "id": "a5cd822a",
   "metadata": {},
   "outputs": [
    {
     "name": "stdout",
     "output_type": "stream",
     "text": [
      "Index(['title', 'text', 'subject', 'date', 'label'], dtype='object')\n"
     ]
    },
    {
     "data": {
      "text/html": [
       "<div>\n",
       "<style scoped>\n",
       "    .dataframe tbody tr th:only-of-type {\n",
       "        vertical-align: middle;\n",
       "    }\n",
       "\n",
       "    .dataframe tbody tr th {\n",
       "        vertical-align: top;\n",
       "    }\n",
       "\n",
       "    .dataframe thead th {\n",
       "        text-align: right;\n",
       "    }\n",
       "</style>\n",
       "<table border=\"1\" class=\"dataframe\">\n",
       "  <thead>\n",
       "    <tr style=\"text-align: right;\">\n",
       "      <th></th>\n",
       "      <th>title</th>\n",
       "      <th>text</th>\n",
       "      <th>subject</th>\n",
       "      <th>date</th>\n",
       "      <th>label</th>\n",
       "    </tr>\n",
       "  </thead>\n",
       "  <tbody>\n",
       "    <tr>\n",
       "      <th>23450</th>\n",
       "      <td>Will American Law Enforcement Lie, Cheat and F...</td>\n",
       "      <td>21st Century Wire says The issue of honest pol...</td>\n",
       "      <td>Middle-east</td>\n",
       "      <td>February 9, 2016</td>\n",
       "      <td>1</td>\n",
       "    </tr>\n",
       "    <tr>\n",
       "      <th>15649</th>\n",
       "      <td>Lebanon PM Hariri resigns, assails Iran and He...</td>\n",
       "      <td>BEIRUT (Reuters) - Lebanon s Prime Minister Sa...</td>\n",
       "      <td>worldnews</td>\n",
       "      <td>November 4, 2017</td>\n",
       "      <td>0</td>\n",
       "    </tr>\n",
       "    <tr>\n",
       "      <th>14168</th>\n",
       "      <td>North Korea calls terror relisting 'serious pr...</td>\n",
       "      <td>SEOUL (Reuters) - North Korea denounced on Wed...</td>\n",
       "      <td>worldnews</td>\n",
       "      <td>November 22, 2017</td>\n",
       "      <td>0</td>\n",
       "    </tr>\n",
       "    <tr>\n",
       "      <th>21360</th>\n",
       "      <td>GERMAN OFFICIAL WARNS OF CIVIL WAR BETWEEN MUS...</td>\n",
       "      <td>How did any EU official think their country co...</td>\n",
       "      <td>left-news</td>\n",
       "      <td>Nov 8, 2015</td>\n",
       "      <td>1</td>\n",
       "    </tr>\n",
       "    <tr>\n",
       "      <th>9124</th>\n",
       "      <td>Trump adds new twist to immigration proposals,...</td>\n",
       "      <td>WASHINGTON (Reuters) - Republican presidential...</td>\n",
       "      <td>politicsNews</td>\n",
       "      <td>June 15, 2016</td>\n",
       "      <td>0</td>\n",
       "    </tr>\n",
       "  </tbody>\n",
       "</table>\n",
       "</div>"
      ],
      "text/plain": [
       "                                                   title  \\\n",
       "23450  Will American Law Enforcement Lie, Cheat and F...   \n",
       "15649  Lebanon PM Hariri resigns, assails Iran and He...   \n",
       "14168  North Korea calls terror relisting 'serious pr...   \n",
       "21360  GERMAN OFFICIAL WARNS OF CIVIL WAR BETWEEN MUS...   \n",
       "9124   Trump adds new twist to immigration proposals,...   \n",
       "\n",
       "                                                    text       subject  \\\n",
       "23450  21st Century Wire says The issue of honest pol...   Middle-east   \n",
       "15649  BEIRUT (Reuters) - Lebanon s Prime Minister Sa...     worldnews   \n",
       "14168  SEOUL (Reuters) - North Korea denounced on Wed...     worldnews   \n",
       "21360  How did any EU official think their country co...     left-news   \n",
       "9124   WASHINGTON (Reuters) - Republican presidential...  politicsNews   \n",
       "\n",
       "                     date  label  \n",
       "23450    February 9, 2016      1  \n",
       "15649   November 4, 2017       0  \n",
       "14168  November 22, 2017       0  \n",
       "21360         Nov 8, 2015      1  \n",
       "9124       June 15, 2016       0  "
      ]
     },
     "execution_count": 9,
     "metadata": {},
     "output_type": "execute_result"
    }
   ],
   "source": [
    "all_data=pd.concat([fake_data, true_data])\n",
    "random_permutation = np.random.permutation(len(all_data))\n",
    "all_data= all_data.iloc[random_permutation]\n",
    "print(all_data.columns)\n",
    "all_data.head()"
   ]
  },
  {
   "cell_type": "code",
   "execution_count": 10,
   "id": "c2b1e1da",
   "metadata": {},
   "outputs": [
    {
     "data": {
      "text/html": [
       "<div>\n",
       "<style scoped>\n",
       "    .dataframe tbody tr th:only-of-type {\n",
       "        vertical-align: middle;\n",
       "    }\n",
       "\n",
       "    .dataframe tbody tr th {\n",
       "        vertical-align: top;\n",
       "    }\n",
       "\n",
       "    .dataframe thead th {\n",
       "        text-align: right;\n",
       "    }\n",
       "</style>\n",
       "<table border=\"1\" class=\"dataframe\">\n",
       "  <thead>\n",
       "    <tr style=\"text-align: right;\">\n",
       "      <th></th>\n",
       "      <th>title</th>\n",
       "      <th>text</th>\n",
       "      <th>subject</th>\n",
       "      <th>label</th>\n",
       "    </tr>\n",
       "  </thead>\n",
       "  <tbody>\n",
       "    <tr>\n",
       "      <th>23450</th>\n",
       "      <td>Will American Law Enforcement Lie, Cheat and F...</td>\n",
       "      <td>21st Century Wire says The issue of honest pol...</td>\n",
       "      <td>Middle-east</td>\n",
       "      <td>1</td>\n",
       "    </tr>\n",
       "    <tr>\n",
       "      <th>15649</th>\n",
       "      <td>Lebanon PM Hariri resigns, assails Iran and He...</td>\n",
       "      <td>BEIRUT (Reuters) - Lebanon s Prime Minister Sa...</td>\n",
       "      <td>worldnews</td>\n",
       "      <td>0</td>\n",
       "    </tr>\n",
       "    <tr>\n",
       "      <th>14168</th>\n",
       "      <td>North Korea calls terror relisting 'serious pr...</td>\n",
       "      <td>SEOUL (Reuters) - North Korea denounced on Wed...</td>\n",
       "      <td>worldnews</td>\n",
       "      <td>0</td>\n",
       "    </tr>\n",
       "    <tr>\n",
       "      <th>21360</th>\n",
       "      <td>GERMAN OFFICIAL WARNS OF CIVIL WAR BETWEEN MUS...</td>\n",
       "      <td>How did any EU official think their country co...</td>\n",
       "      <td>left-news</td>\n",
       "      <td>1</td>\n",
       "    </tr>\n",
       "    <tr>\n",
       "      <th>9124</th>\n",
       "      <td>Trump adds new twist to immigration proposals,...</td>\n",
       "      <td>WASHINGTON (Reuters) - Republican presidential...</td>\n",
       "      <td>politicsNews</td>\n",
       "      <td>0</td>\n",
       "    </tr>\n",
       "  </tbody>\n",
       "</table>\n",
       "</div>"
      ],
      "text/plain": [
       "                                                   title  \\\n",
       "23450  Will American Law Enforcement Lie, Cheat and F...   \n",
       "15649  Lebanon PM Hariri resigns, assails Iran and He...   \n",
       "14168  North Korea calls terror relisting 'serious pr...   \n",
       "21360  GERMAN OFFICIAL WARNS OF CIVIL WAR BETWEEN MUS...   \n",
       "9124   Trump adds new twist to immigration proposals,...   \n",
       "\n",
       "                                                    text       subject  label  \n",
       "23450  21st Century Wire says The issue of honest pol...   Middle-east      1  \n",
       "15649  BEIRUT (Reuters) - Lebanon s Prime Minister Sa...     worldnews      0  \n",
       "14168  SEOUL (Reuters) - North Korea denounced on Wed...     worldnews      0  \n",
       "21360  How did any EU official think their country co...     left-news      1  \n",
       "9124   WASHINGTON (Reuters) - Republican presidential...  politicsNews      0  "
      ]
     },
     "execution_count": 10,
     "metadata": {},
     "output_type": "execute_result"
    }
   ],
   "source": [
    "filterd_data=all_data.loc[:, ['title', 'text', \"subject\", 'label']]\n",
    "filterd_data.head()"
   ]
  },
  {
   "cell_type": "code",
   "execution_count": 24,
   "id": "15e82de1",
   "metadata": {},
   "outputs": [
    {
     "data": {
      "text/plain": [
       "title               0\n",
       "text                0\n",
       "subject             0\n",
       "label               0\n",
       "training_feature    0\n",
       "dtype: int64"
      ]
     },
     "execution_count": 24,
     "metadata": {},
     "output_type": "execute_result"
    }
   ],
   "source": [
    "filterd_data.isnull().sum()"
   ]
  },
  {
   "cell_type": "code",
   "execution_count": 25,
   "id": "9afe8df0",
   "metadata": {},
   "outputs": [
    {
     "data": {
      "text/html": [
       "<div>\n",
       "<style scoped>\n",
       "    .dataframe tbody tr th:only-of-type {\n",
       "        vertical-align: middle;\n",
       "    }\n",
       "\n",
       "    .dataframe tbody tr th {\n",
       "        vertical-align: top;\n",
       "    }\n",
       "\n",
       "    .dataframe thead th {\n",
       "        text-align: right;\n",
       "    }\n",
       "</style>\n",
       "<table border=\"1\" class=\"dataframe\">\n",
       "  <thead>\n",
       "    <tr style=\"text-align: right;\">\n",
       "      <th></th>\n",
       "      <th>title</th>\n",
       "      <th>text</th>\n",
       "      <th>subject</th>\n",
       "      <th>label</th>\n",
       "      <th>training_feature</th>\n",
       "    </tr>\n",
       "  </thead>\n",
       "  <tbody>\n",
       "    <tr>\n",
       "      <th>23450</th>\n",
       "      <td>Will American Law Enforcement Lie, Cheat and F...</td>\n",
       "      <td>21st Century Wire says The issue of honest pol...</td>\n",
       "      <td>Middle-east</td>\n",
       "      <td>1</td>\n",
       "      <td>Will American Law Enforcement Lie, Cheat and F...</td>\n",
       "    </tr>\n",
       "    <tr>\n",
       "      <th>15649</th>\n",
       "      <td>Lebanon PM Hariri resigns, assails Iran and He...</td>\n",
       "      <td>BEIRUT (Reuters) - Lebanon s Prime Minister Sa...</td>\n",
       "      <td>worldnews</td>\n",
       "      <td>0</td>\n",
       "      <td>Lebanon PM Hariri resigns, assails Iran and He...</td>\n",
       "    </tr>\n",
       "    <tr>\n",
       "      <th>14168</th>\n",
       "      <td>North Korea calls terror relisting 'serious pr...</td>\n",
       "      <td>SEOUL (Reuters) - North Korea denounced on Wed...</td>\n",
       "      <td>worldnews</td>\n",
       "      <td>0</td>\n",
       "      <td>North Korea calls terror relisting 'serious pr...</td>\n",
       "    </tr>\n",
       "    <tr>\n",
       "      <th>21360</th>\n",
       "      <td>GERMAN OFFICIAL WARNS OF CIVIL WAR BETWEEN MUS...</td>\n",
       "      <td>How did any EU official think their country co...</td>\n",
       "      <td>left-news</td>\n",
       "      <td>1</td>\n",
       "      <td>GERMAN OFFICIAL WARNS OF CIVIL WAR BETWEEN MUS...</td>\n",
       "    </tr>\n",
       "    <tr>\n",
       "      <th>9124</th>\n",
       "      <td>Trump adds new twist to immigration proposals,...</td>\n",
       "      <td>WASHINGTON (Reuters) - Republican presidential...</td>\n",
       "      <td>politicsNews</td>\n",
       "      <td>0</td>\n",
       "      <td>Trump adds new twist to immigration proposals,...</td>\n",
       "    </tr>\n",
       "  </tbody>\n",
       "</table>\n",
       "</div>"
      ],
      "text/plain": [
       "                                                   title  \\\n",
       "23450  Will American Law Enforcement Lie, Cheat and F...   \n",
       "15649  Lebanon PM Hariri resigns, assails Iran and He...   \n",
       "14168  North Korea calls terror relisting 'serious pr...   \n",
       "21360  GERMAN OFFICIAL WARNS OF CIVIL WAR BETWEEN MUS...   \n",
       "9124   Trump adds new twist to immigration proposals,...   \n",
       "\n",
       "                                                    text       subject  label  \\\n",
       "23450  21st Century Wire says The issue of honest pol...   Middle-east      1   \n",
       "15649  BEIRUT (Reuters) - Lebanon s Prime Minister Sa...     worldnews      0   \n",
       "14168  SEOUL (Reuters) - North Korea denounced on Wed...     worldnews      0   \n",
       "21360  How did any EU official think their country co...     left-news      1   \n",
       "9124   WASHINGTON (Reuters) - Republican presidential...  politicsNews      0   \n",
       "\n",
       "                                        training_feature  \n",
       "23450  Will American Law Enforcement Lie, Cheat and F...  \n",
       "15649  Lebanon PM Hariri resigns, assails Iran and He...  \n",
       "14168  North Korea calls terror relisting 'serious pr...  \n",
       "21360  GERMAN OFFICIAL WARNS OF CIVIL WAR BETWEEN MUS...  \n",
       "9124   Trump adds new twist to immigration proposals,...  "
      ]
     },
     "execution_count": 25,
     "metadata": {},
     "output_type": "execute_result"
    }
   ],
   "source": [
    "filterd_data['training_feature']=filterd_data['title']+' '+filterd_data['text']+' '+filterd_data['subject']\n",
    "filterd_data.head()"
   ]
  },
  {
   "cell_type": "code",
   "execution_count": 26,
   "id": "529682ef",
   "metadata": {},
   "outputs": [],
   "source": [
    "X= filterd_data['training_feature'].values\n",
    "y = filterd_data['label']"
   ]
  },
  {
   "cell_type": "code",
   "execution_count": 27,
   "id": "006ab9d6",
   "metadata": {},
   "outputs": [],
   "source": [
    "l_X=filterd_data['training_feature'].values[0:1000]\n",
    "l_Y= filterd_data['label'].values[0:1000]"
   ]
  },
  {
   "cell_type": "code",
   "execution_count": 28,
   "id": "6fd95564",
   "metadata": {},
   "outputs": [
    {
     "name": "stdout",
     "output_type": "stream",
     "text": [
      "(1000,)\n",
      "(1000,)\n"
     ]
    },
    {
     "data": {
      "text/plain": [
       "numpy.ndarray"
      ]
     },
     "execution_count": 28,
     "metadata": {},
     "output_type": "execute_result"
    }
   ],
   "source": [
    "print(l_X.shape)\n",
    "print(l_Y.shape)\n",
    "type (l_X)"
   ]
  },
  {
   "cell_type": "code",
   "execution_count": 29,
   "id": "125a6893",
   "metadata": {
    "scrolled": true
   },
   "outputs": [
    {
     "name": "stdout",
     "output_type": "stream",
     "text": [
      "['Will American Law Enforcement Lie, Cheat and Forge Police Reports? Answer: Yes. 21st Century Wire says The issue of honest policing and institutional corruption within law enforcement has been exercised over and over, with every high-profile controversy. Certainly, 2015 had its fair share of these kind of incidents.The issue of institutional corruption still goes unattended however, as media seem to prefer the obsession of spinning every story in terms of race, or class, rather than seriously looking at the problem of devolving so much power and blind authority that are by their very nature   often corrupt.Where is the DOJ, and where is the President weighing-in? Where are the race mobs? Is this story not sexy enough for the media?This latest story should be a warning to everyone about what would likely be systemic in the fully-functioning police state which Washington DC is currently attempting to construct under the noses of its citizens  Matt Kessler GuardianSince 26-year-old Ricky Ball was shot and killed by police in October, the black community in Columbus, Mississippi, has grappled with questions that don t have clear answers.Why did police shoot Ball that night? Why did a string of police officials resign in the months that followed? And why did police claim Ball stole a gun from a police officer s home only after his death?Attempts to obtain police documents about the case have raised a new question: why did police release two different versions of events from the shooting?Documents obtained by the Guardian show police altered a document labeled  uniform incident report  in Ball s death. An initial version published by the Commercial Dispatch said an officer  tased  Ball before he fled. A new version of the incident report released to the Guardian does not include any mention of Taser use. One of these two reports is not true Continue this story at the GuardianREAD MORE POLICE STATE NEWS AT: 21st Century Wire Police State Files Middle-east']\n"
     ]
    }
   ],
   "source": [
    "print(X[0:1])"
   ]
  },
  {
   "cell_type": "code",
   "execution_count": 30,
   "id": "aa5a04ab",
   "metadata": {},
   "outputs": [],
   "source": [
    "from sklearn.feature_extraction.text import TfidfVectorizer\n",
    "from sklearn.model_selection import train_test_split\n",
    "from sklearn.linear_model import LogisticRegression\n",
    "from sklearn.metrics import accuracy_score"
   ]
  },
  {
   "cell_type": "code",
   "execution_count": 31,
   "id": "cbf376f6",
   "metadata": {},
   "outputs": [],
   "source": [
    "vectorizer= TfidfVectorizer()\n",
    "X=vectorizer.fit_transform(X)"
   ]
  },
  {
   "cell_type": "code",
   "execution_count": null,
   "id": "2e3a4fde",
   "metadata": {},
   "outputs": [],
   "source": []
  },
  {
   "cell_type": "code",
   "execution_count": 32,
   "id": "88ff8d27",
   "metadata": {},
   "outputs": [],
   "source": [
    "l_vectorizer= TfidfVectorizer()\n",
    "l_X=l_vectorizer.fit_transform(l_X)"
   ]
  },
  {
   "cell_type": "code",
   "execution_count": 35,
   "id": "17ef4850",
   "metadata": {},
   "outputs": [
    {
     "name": "stdout",
     "output_type": "stream",
     "text": [
      "<class 'scipy.sparse.csr.csr_matrix'>\n",
      "(44898, 122516)\n",
      "<class 'scipy.sparse.csr.csr_matrix'>\n",
      "(1000, 22532)\n"
     ]
    }
   ],
   "source": [
    "print(type(X))\n",
    "print(X.shape)\n",
    "print(type(l_X))\n",
    "print(l_X.shape)"
   ]
  },
  {
   "cell_type": "code",
   "execution_count": 36,
   "id": "02728bb7",
   "metadata": {},
   "outputs": [],
   "source": [
    "X_train, X_test, Y_train, Y_test = train_test_split(X, y, test_size = 0.2, stratify=y, random_state=42)\n",
    "\n",
    "\n",
    "\n"
   ]
  },
  {
   "cell_type": "code",
   "execution_count": 37,
   "id": "ac362322",
   "metadata": {},
   "outputs": [],
   "source": [
    "l_X_train, l_X_test, l_Y_train, l_Y_test = train_test_split(l_X, l_Y, test_size = 0.2, random_state=42)"
   ]
  },
  {
   "cell_type": "code",
   "execution_count": 38,
   "id": "96733a26",
   "metadata": {},
   "outputs": [
    {
     "data": {
      "text/plain": [
       "(35918, 122516)"
      ]
     },
     "execution_count": 38,
     "metadata": {},
     "output_type": "execute_result"
    }
   ],
   "source": [
    "X_train.shape"
   ]
  },
  {
   "cell_type": "code",
   "execution_count": 39,
   "id": "d72b11d8",
   "metadata": {},
   "outputs": [
    {
     "data": {
      "text/plain": [
       "LogisticRegression()"
      ]
     },
     "execution_count": 39,
     "metadata": {},
     "output_type": "execute_result"
    }
   ],
   "source": [
    "model=LogisticRegression()\n",
    "model.fit(X_train,Y_train)"
   ]
  },
  {
   "cell_type": "code",
   "execution_count": 40,
   "id": "dc96010f",
   "metadata": {},
   "outputs": [
    {
     "name": "stdout",
     "output_type": "stream",
     "text": [
      "0.9922048997772829\n",
      "0.9947101731722257\n"
     ]
    }
   ],
   "source": [
    "\n",
    "test_y_hat=model.predict(X_test)\n",
    "print(accuracy_score(test_y_hat, Y_test))\n",
    "\n",
    "\n",
    "train_y_hat = model.predict(X_train)\n",
    "print(accuracy_score(train_y_hat,Y_train))"
   ]
  },
  {
   "cell_type": "code",
   "execution_count": 41,
   "id": "34bc5117",
   "metadata": {},
   "outputs": [],
   "source": [
    "def predict(input_data):\n",
    "    \n",
    "    y_hat= model.predict(input_data)\n",
    "    if y_hat==0:\n",
    "        return \"The article is Fake\"\n",
    "    else:\n",
    "        return 'The article is not Fake'"
   ]
  },
  {
   "cell_type": "code",
   "execution_count": 42,
   "id": "1d3119f0",
   "metadata": {},
   "outputs": [
    {
     "name": "stdout",
     "output_type": "stream",
     "text": [
      "The article is Fake\n"
     ]
    },
    {
     "data": {
      "text/plain": [
       "0"
      ]
     },
     "execution_count": 42,
     "metadata": {},
     "output_type": "execute_result"
    }
   ],
   "source": [
    "print(predict(X_test[2000]))\n",
    "model.predict(X_test[2000])[0]"
   ]
  },
  {
   "cell_type": "code",
   "execution_count": 43,
   "id": "8518a99d",
   "metadata": {},
   "outputs": [
    {
     "name": "stdout",
     "output_type": "stream",
     "text": [
      "0.9952591487774995\n",
      "0.9946233697098749\n",
      "0.9949411576761275\n",
      "0.9919183326244151\n",
      "0.9931856899488927\n",
      "0.992551606724835\n"
     ]
    }
   ],
   "source": [
    "from sklearn.metrics import precision_score, recall_score, f1_score\n",
    "\n",
    "print (precision_score(Y_train, train_y_hat,))\n",
    "print (recall_score(Y_train, train_y_hat,))\n",
    "print(f1_score(Y_train, train_y_hat,))\n",
    "\n",
    "\n",
    "print (precision_score(Y_test, test_y_hat,))\n",
    "print (recall_score(Y_test, test_y_hat,))\n",
    "print(f1_score(Y_test, test_y_hat,))"
   ]
  },
  {
   "cell_type": "code",
   "execution_count": 44,
   "id": "acf10b25",
   "metadata": {},
   "outputs": [
    {
     "name": "stdout",
     "output_type": "stream",
     "text": [
      "[['TP', 'FP'], ['FN', 'TN']]\n",
      "[[4246   38]\n",
      " [  32 4664]]\n",
      "[[17044    89]\n",
      " [  101 18684]]\n"
     ]
    }
   ],
   "source": [
    "from sklearn.metrics import confusion_matrix\n",
    "print ([['TP', 'FP'],['FN', 'TN']])\n",
    "print(confusion_matrix(Y_test, test_y_hat,))\n",
    "print (confusion_matrix(Y_train, train_y_hat,))"
   ]
  },
  {
   "cell_type": "code",
   "execution_count": 45,
   "id": "15385b05",
   "metadata": {},
   "outputs": [],
   "source": [
    "from sklearn import svm\n",
    "\n",
    "#Create a svm Classifier\n",
    "model = svm.SVC(kernel='linear') # Linear Kernel\n",
    "clf_poly=clf = svm.SVC(kernel='poly') # Polynomial kernel"
   ]
  },
  {
   "cell_type": "code",
   "execution_count": 46,
   "id": "102062c9",
   "metadata": {},
   "outputs": [
    {
     "name": "stdout",
     "output_type": "stream",
     "text": [
      "(35918, 122516)\n"
     ]
    }
   ],
   "source": [
    "print(X_train.shape)\n",
    "# X_train.iloc[0:1000].shape"
   ]
  },
  {
   "cell_type": "code",
   "execution_count": 47,
   "id": "8070f1f0",
   "metadata": {},
   "outputs": [
    {
     "data": {
      "text/plain": [
       "SVC(kernel='linear')"
      ]
     },
     "execution_count": 47,
     "metadata": {},
     "output_type": "execute_result"
    }
   ],
   "source": [
    "#Train the model using the training sets\n",
    "model.fit(l_X_train, l_Y_train)\n",
    "#clf_poly.fit(X_train,Y_train)"
   ]
  },
  {
   "cell_type": "code",
   "execution_count": 48,
   "id": "ffe88d1c",
   "metadata": {},
   "outputs": [],
   "source": [
    "y_pred = model.predict(l_X_test)\n",
    "\n"
   ]
  },
  {
   "cell_type": "code",
   "execution_count": 49,
   "id": "a50c3977",
   "metadata": {},
   "outputs": [
    {
     "name": "stdout",
     "output_type": "stream",
     "text": [
      "0.98\n",
      "0.9814814814814815\n",
      "0.9814814814814815\n",
      "0.9814814814814815\n",
      "[[ 90   2]\n",
      " [  2 106]]\n"
     ]
    }
   ],
   "source": [
    "from sklearn.metrics import precision_score, recall_score, f1_score, accuracy_score\n",
    "\n",
    "print(accuracy_score(y_pred, l_Y_test))\n",
    "print (precision_score(l_Y_test, y_pred,))\n",
    "print (recall_score(l_Y_test, y_pred,))\n",
    "print(f1_score(l_Y_test, y_pred,))\n",
    "print(confusion_matrix(l_Y_test, y_pred,))"
   ]
  },
  {
   "cell_type": "code",
   "execution_count": 50,
   "id": "b6ce95e5",
   "metadata": {},
   "outputs": [
    {
     "data": {
      "text/plain": [
       "RandomForestClassifier()"
      ]
     },
     "execution_count": 50,
     "metadata": {},
     "output_type": "execute_result"
    }
   ],
   "source": [
    "from sklearn.ensemble import RandomForestClassifier\n",
    "model = RandomForestClassifier()\n",
    "model.fit(l_X_train, l_Y_train)"
   ]
  },
  {
   "cell_type": "code",
   "execution_count": 51,
   "id": "7a4d5e5c",
   "metadata": {},
   "outputs": [],
   "source": [
    "y_pred = model.predict(l_X_test)"
   ]
  },
  {
   "cell_type": "code",
   "execution_count": 52,
   "id": "4de56ee0",
   "metadata": {},
   "outputs": [
    {
     "name": "stdout",
     "output_type": "stream",
     "text": [
      "[1 1 1 1 1 0 1 0 0 0 1 0 1 0 0 0 1 1 1 0 0 1 1 0 0 0 1 1 1 0 1 0 1 0 1 1 0\n",
      " 1 1 1 0 0 0 1 0 0 0 1 1 1 0 0 0 1 0 1 0 1 1 0 0 0 0 1 1 1 0 1 1 0 0 0 0 1\n",
      " 1 1 1 0 1 0 1 1 0 1 0 0 0 1 1 1 0 1 1 1 1 0 0 1 1 0 0 1 1 0 0 1 0 0 0 1 0\n",
      " 1 1 1 0 1 1 1 0 1 0 0 1 1 1 1 1 0 1 1 0 0 1 1 1 0 0 0 0 1 0 1 1 1 1 0 1 1\n",
      " 0 0 1 0 1 0 0 0 1 1 1 0 1 1 0 1 1 0 0 1 0 1 0 1 1 0 0 1 0 1 1 0 1 0 0 1 1\n",
      " 1 1 1 1 0 1 1 1 0 0 0 1 1 0 0]\n"
     ]
    }
   ],
   "source": [
    "print (y_pred)\n"
   ]
  },
  {
   "cell_type": "code",
   "execution_count": 53,
   "id": "048d2a00",
   "metadata": {},
   "outputs": [
    {
     "name": "stdout",
     "output_type": "stream",
     "text": [
      "0.995\n",
      "0.9908256880733946\n",
      "1.0\n",
      "0.9953917050691244\n",
      "[[ 91   1]\n",
      " [  0 108]]\n"
     ]
    }
   ],
   "source": [
    "from sklearn.metrics import precision_score, recall_score, f1_score, accuracy_score,confusion_matrix\n",
    "\n",
    "\n",
    "print(accuracy_score(y_pred, l_Y_test))\n",
    "print (precision_score(l_Y_test, y_pred,))\n",
    "print (recall_score(l_Y_test, y_pred,))\n",
    "print(f1_score(l_Y_test, y_pred,))\n",
    "print(confusion_matrix(l_Y_test, y_pred,))"
   ]
  },
  {
   "cell_type": "code",
   "execution_count": 54,
   "id": "6320e80d",
   "metadata": {},
   "outputs": [],
   "source": [
    "from sklearn.naive_bayes import GaussianNB\n",
    "model = GaussianNB()"
   ]
  },
  {
   "cell_type": "code",
   "execution_count": 55,
   "id": "e4fc5b07",
   "metadata": {},
   "outputs": [
    {
     "data": {
      "text/plain": [
       "array([1, 1, 1, 1, 1, 0, 1, 0, 0, 0, 1, 0, 1, 0, 0, 0, 1, 1, 1, 0, 0, 1,\n",
       "       1, 0, 0, 0, 1, 1, 1, 0, 1, 0, 1, 0, 1, 1, 0, 1, 1, 1, 0, 0, 0, 1,\n",
       "       0, 0, 0, 1, 1, 1, 0, 0, 0, 1, 0, 1, 0, 1, 1, 0, 0, 0, 0, 1, 1, 1,\n",
       "       0, 1, 1, 0, 0, 0, 0, 1, 1, 1, 1, 0, 1, 0, 1, 1, 0, 1, 0, 0, 0, 1,\n",
       "       1, 1, 0, 1, 1, 1, 1, 0, 0, 1, 1, 0, 0, 1, 1, 0, 0, 1, 0, 0, 0, 1,\n",
       "       0, 1, 1, 1, 0, 1, 1, 1, 0, 1, 0, 0, 1, 1, 1, 1, 1, 0, 1, 1, 0, 0,\n",
       "       1, 1, 1, 0, 0, 0, 0, 1, 0, 1, 1, 1, 1, 0, 1, 1, 0, 0, 1, 0, 1, 0,\n",
       "       0, 0, 1, 1, 1, 0, 1, 1, 0, 1, 1, 0, 0, 1, 0, 1, 0, 1, 1, 0, 0, 1,\n",
       "       0, 1, 1, 0, 1, 0, 0, 1, 1, 1, 1, 1, 1, 0, 1, 1, 1, 0, 0, 0, 1, 1,\n",
       "       0, 0], dtype=int64)"
      ]
     },
     "execution_count": 55,
     "metadata": {},
     "output_type": "execute_result"
    }
   ],
   "source": [
    "y_pred"
   ]
  },
  {
   "cell_type": "code",
   "execution_count": 56,
   "id": "5e62182d",
   "metadata": {},
   "outputs": [
    {
     "data": {
      "text/plain": [
       "GaussianNB()"
      ]
     },
     "execution_count": 56,
     "metadata": {},
     "output_type": "execute_result"
    }
   ],
   "source": [
    "model.fit(l_X_train.toarray(), l_Y_train)"
   ]
  },
  {
   "cell_type": "code",
   "execution_count": 57,
   "id": "cc7a3127",
   "metadata": {},
   "outputs": [
    {
     "name": "stdout",
     "output_type": "stream",
     "text": [
      "0.995\n",
      "0.9908256880733946\n",
      "1.0\n",
      "0.9953917050691244\n",
      "[[ 91   1]\n",
      " [  0 108]]\n"
     ]
    }
   ],
   "source": [
    "print(accuracy_score(y_pred, l_Y_test))\n",
    "print (precision_score(l_Y_test, y_pred,))\n",
    "print (recall_score(l_Y_test, y_pred,))\n",
    "print(f1_score(l_Y_test, y_pred,))\n",
    "print(confusion_matrix(l_Y_test, y_pred,))\n"
   ]
  },
  {
   "cell_type": "code",
   "execution_count": null,
   "id": "93b25cfc",
   "metadata": {},
   "outputs": [],
   "source": []
  }
 ],
 "metadata": {
  "kernelspec": {
   "display_name": "Python 3 (ipykernel)",
   "language": "python",
   "name": "python3"
  },
  "language_info": {
   "codemirror_mode": {
    "name": "ipython",
    "version": 3
   },
   "file_extension": ".py",
   "mimetype": "text/x-python",
   "name": "python",
   "nbconvert_exporter": "python",
   "pygments_lexer": "ipython3",
   "version": "3.9.12"
  }
 },
 "nbformat": 4,
 "nbformat_minor": 5
}
